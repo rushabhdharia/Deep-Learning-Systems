{
  "nbformat": 4,
  "nbformat_minor": 0,
  "metadata": {
    "colab": {
      "name": "hw2_p1.ipynb",
      "provenance": [],
      "collapsed_sections": []
    },
    "kernelspec": {
      "name": "python3",
      "display_name": "Python 3"
    },
    "accelerator": "GPU"
  },
  "cells": [
    {
      "cell_type": "markdown",
      "metadata": {
        "id": "JwVXW1cJAN6v",
        "colab_type": "text"
      },
      "source": [
        "# Speech Denoising Using 1D CNN"
      ]
    },
    {
      "cell_type": "markdown",
      "metadata": {
        "id": "8hWgaTc1Yzqh",
        "colab_type": "text"
      },
      "source": [
        "### Imports\n"
      ]
    },
    {
      "cell_type": "code",
      "metadata": {
        "id": "j_cJP-oI-ijE",
        "colab_type": "code",
        "colab": {}
      },
      "source": [
        "import librosa\n",
        "import numpy as np\n",
        "import tensorflow as tf"
      ],
      "execution_count": 0,
      "outputs": []
    },
    {
      "cell_type": "markdown",
      "metadata": {
        "id": "vUDC7y9vY6BU",
        "colab_type": "text"
      },
      "source": [
        "### Upload Files\n",
        "Please upload the following files -\n",
        "\n",
        "1.   train_clean_male.wav\n",
        "2.   train_dirty_male.wav\n",
        "3.   test_x_01.wav\n",
        "4.   test_x_02.wav\n"
      ]
    },
    {
      "cell_type": "code",
      "metadata": {
        "id": "mXKoJXx5AcwF",
        "colab_type": "code",
        "outputId": "a34dacab-120a-4a5b-bf47-076c236d353f",
        "colab": {
          "resources": {
            "http://localhost:8080/nbextensions/google.colab/files.js": {
              "data": "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",
              "ok": true,
              "headers": [
                [
                  "content-type",
                  "application/javascript"
                ]
              ],
              "status": 200,
              "status_text": ""
            }
          },
          "base_uri": "https://localhost:8080/",
          "height": 175
        }
      },
      "source": [
        "from google.colab import files\n",
        "\n",
        "uploaded = files.upload()"
      ],
      "execution_count": 3,
      "outputs": [
        {
          "output_type": "display_data",
          "data": {
            "text/html": [
              "\n",
              "     <input type=\"file\" id=\"files-b0ceff1f-777b-428e-a984-b8712c56cdb8\" name=\"files[]\" multiple disabled />\n",
              "     <output id=\"result-b0ceff1f-777b-428e-a984-b8712c56cdb8\">\n",
              "      Upload widget is only available when the cell has been executed in the\n",
              "      current browser session. Please rerun this cell to enable.\n",
              "      </output>\n",
              "      <script src=\"/nbextensions/google.colab/files.js\"></script> "
            ],
            "text/plain": [
              "<IPython.core.display.HTML object>"
            ]
          },
          "metadata": {
            "tags": []
          }
        },
        {
          "output_type": "stream",
          "text": [
            "Saving test_x_01.wav to test_x_01.wav\n",
            "Saving test_x_02.wav to test_x_02.wav\n",
            "Saving train_clean_male.wav to train_clean_male.wav\n",
            "Saving train_dirty_male.wav to train_dirty_male.wav\n"
          ],
          "name": "stdout"
        }
      ]
    },
    {
      "cell_type": "markdown",
      "metadata": {
        "id": "nlhlQw5pCvDA",
        "colab_type": "text"
      },
      "source": [
        "### Convert to Time_Frequency Domain\n",
        "Convert the signal from time domain to frequency domain and take the absolute.  \n",
        "Also taking the transpose of the absolute\n"
      ]
    },
    {
      "cell_type": "code",
      "metadata": {
        "id": "N55ZZM8bAvna",
        "colab_type": "code",
        "colab": {}
      },
      "source": [
        "s, sr = librosa.load('train_clean_male.wav', sr = None)\n",
        "S_clean = librosa.stft(s, n_fft=1024, hop_length=512)\n",
        "S_mag = np.abs(S_clean).T\n",
        "\n",
        "sn, sr = librosa.load('train_dirty_male.wav', sr = None)\n",
        "X_dirty = librosa.stft(s, n_fft=1024, hop_length=512)\n",
        "X_mag = np.abs(X_dirty).T"
      ],
      "execution_count": 0,
      "outputs": []
    },
    {
      "cell_type": "markdown",
      "metadata": {
        "id": "EGdZJFkEZC5S",
        "colab_type": "text"
      },
      "source": [
        "## Training"
      ]
    },
    {
      "cell_type": "markdown",
      "metadata": {
        "id": "HYXpPQWhZCqS",
        "colab_type": "text"
      },
      "source": [
        "### Create Placeholders"
      ]
    },
    {
      "cell_type": "code",
      "metadata": {
        "id": "Tfg7hygrED0W",
        "colab_type": "code",
        "colab": {}
      },
      "source": [
        "def create_placeholders(n_x = 513, n_y = 513):\n",
        "  X = tf.placeholder(tf.float32, [None, n_x])\n",
        "  Y = tf.placeholder(tf.float32, [None, n_y])\n",
        "  return X, Y"
      ],
      "execution_count": 0,
      "outputs": []
    },
    {
      "cell_type": "markdown",
      "metadata": {
        "id": "ltnL5kQZbN3p",
        "colab_type": "text"
      },
      "source": [
        "### Convolution 1D\n",
        "As mentioned by Prof. Kim to not use any zero padding, I've used VALID padding.  \n",
        "Stride by default is 1"
      ]
    },
    {
      "cell_type": "code",
      "metadata": {
        "id": "XmefhTRLJfYc",
        "colab_type": "code",
        "colab": {}
      },
      "source": [
        "def conv1d(x, W, b, strides = 1):\n",
        "  x = tf.nn.conv1d(x, W, stride = strides, padding = 'VALID')\n",
        "  x = tf.nn.bias_add(x, b)\n",
        "  return tf.nn.relu(x)"
      ],
      "execution_count": 0,
      "outputs": []
    },
    {
      "cell_type": "markdown",
      "metadata": {
        "id": "WiHgMQxdbXq0",
        "colab_type": "text"
      },
      "source": [
        "### MaxPooling 2D\n",
        "ksize and strides by default is 2"
      ]
    },
    {
      "cell_type": "code",
      "metadata": {
        "id": "f5qSc7XKKZ6v",
        "colab_type": "code",
        "colab": {}
      },
      "source": [
        "def max_pool1d(x, k = 2):\n",
        "  return tf.nn.max_pool1d(x, ksize = [1, k, 1], strides = [1, k, 1], padding = 'VALID') "
      ],
      "execution_count": 0,
      "outputs": []
    },
    {
      "cell_type": "markdown",
      "metadata": {
        "id": "ALlFs6NNbeaG",
        "colab_type": "text"
      },
      "source": [
        "### Initialize Parameters\n",
        "\n",
        "Used He initialization for weights and kernels.  \n",
        "Used Zeros Initializer for biases.\n",
        "\n",
        "1.   W1 is a 3x3 kernel with 16 channels\n",
        "2.   b1 is the bias added to the first Convolution layer\n",
        "3. W2 is a 5x5 kernel with 32 channels \n",
        "4. b2 is the bias added to the second Convolution layer\n",
        "5. W3 is a 7x7 kernel with 64 channels \n",
        "4. b3 is the bias added to the third Convolution layer\n",
        "5. W4 and b4 are the weights and biases respectively for the 4rd Layer which is a Fully Connected Layer\n",
        "6. W5 and b5 are the weights and biases respectively for the 5th Layer which is a Fully Connected Layer\n"
      ]
    },
    {
      "cell_type": "code",
      "metadata": {
        "id": "MmADn3lhNVsJ",
        "colab_type": "code",
        "colab": {}
      },
      "source": [
        "def initialize_parameters():\n",
        "  W1 = tf.get_variable(\"W1\", [3, 1, 16], initializer=tf.contrib.layers.variance_scaling_initializer())\n",
        "  b1 = tf.get_variable(\"b1\", [16], initializer=tf.zeros_initializer)\n",
        " \n",
        "  W2 = tf.get_variable(\"W2\", [5, 16, 32], initializer=tf.contrib.layers.variance_scaling_initializer())\n",
        "  b2 = tf.get_variable(\"b2\", [32], initializer=tf.zeros_initializer)\n",
        "  \n",
        "  W3 = tf.get_variable(\"W3\", [7, 32, 64], initializer=tf.contrib.layers.variance_scaling_initializer())\n",
        "  b3 = tf.get_variable(\"b3\", [64], initializer=tf.zeros_initializer)\n",
        "  \n",
        "  W4 = tf.get_variable(\"W4\", [1024, 3776], initializer=tf.contrib.layers.variance_scaling_initializer())\n",
        "  b4 = tf.get_variable(\"b4\", [1024, 1], initializer=tf.zeros_initializer) \n",
        "\n",
        "  W5 = tf.get_variable(\"W5\", [513, 1024], initializer=tf.contrib.layers.variance_scaling_initializer())\n",
        "  b5 = tf.get_variable(\"b5\", [513, 1], initializer=tf.zeros_initializer)\n",
        "  \n",
        "\n",
        "  parameters = {\n",
        "      \"W1\" : W1,\n",
        "      \"b1\" : b1,\n",
        "      \"W2\" : W2,\n",
        "      \"b2\" : b2,\n",
        "      \"W3\" : W3,\n",
        "      \"b3\" : b3,\n",
        "      \"W4\" : W4,\n",
        "      \"b4\" : b4,\n",
        "      \"W5\" : W5,\n",
        "      \"b5\" : b5\n",
        "  }\n",
        "  \n",
        "  return parameters"
      ],
      "execution_count": 0,
      "outputs": []
    },
    {
      "cell_type": "markdown",
      "metadata": {
        "id": "iepD1fGDcO4y",
        "colab_type": "text"
      },
      "source": [
        "### Forward Propagation\n",
        "The input is reshaped so that it has 3 dimensions - batchsize, width and number of channels.  \n",
        "The layers are as follows\n",
        "1. Convolution \n",
        "2. Pooling\n",
        "3. Convolution \n",
        "4. Pooling\n",
        "4. Convolution \n",
        "6. Pooling\n",
        "7. Fully Connected\n",
        "8. Fully Connected\n",
        "\n",
        "The Output dimensions are batch_size x width(513)\n"
      ]
    },
    {
      "cell_type": "code",
      "metadata": {
        "id": "hY8OilaBPDrr",
        "colab_type": "code",
        "colab": {}
      },
      "source": [
        "def forward_propagation(X, parameters):\n",
        "\n",
        "  X = tf.reshape(X, [-1, 513, 1])\n",
        "\n",
        "  W1 = parameters['W1']\n",
        "  b1 = parameters['b1']\n",
        "  A1 = conv1d(X, W1, b1, strides = 1)\n",
        "  A2 = max_pool1d(A1, k=2)\n",
        "  \n",
        "  W2 = parameters['W2']\n",
        "  b2 = parameters['b2']\n",
        "  A3 = conv1d(A2, W2, b2, strides = 1)\n",
        "  A4 = max_pool1d(A3, k=2)\n",
        "  \n",
        "  W3 = parameters['W3']\n",
        "  b3 = parameters['b3']\n",
        "  A5 = conv1d(A4, W3, b3, strides = 1)\n",
        "  A6 = max_pool1d(A5, k=2) \n",
        "  \n",
        "  A6 = tf.transpose(tf.reshape(A6, [-1, A6.shape[1] * A6.shape[2]]))\n",
        "  \n",
        "  \n",
        "  W4 = parameters['W4']\n",
        "  b4 = parameters['b4']\n",
        "  Z7 = tf.matmul(W4, A6) + b4\n",
        "  A7 = tf.nn.relu(Z7)\n",
        "  \n",
        "  W5 = parameters['W5']\n",
        "  b5 = parameters['b5']\n",
        "  Z8 = tf.matmul(W5, A7) + b5\n",
        "\n",
        "  return tf.transpose(Z8)"
      ],
      "execution_count": 0,
      "outputs": []
    },
    {
      "cell_type": "markdown",
      "metadata": {
        "id": "bx-Bixy_cmXg",
        "colab_type": "text"
      },
      "source": [
        "### Compute Cost\n",
        "Loss function - MSE  \n",
        "Cost is the mean of all losses"
      ]
    },
    {
      "cell_type": "code",
      "metadata": {
        "id": "YMqa3xsVmdSY",
        "colab_type": "code",
        "colab": {}
      },
      "source": [
        "def compute_cost(Z8, Y):\n",
        "  cost = tf.reduce_mean(tf.losses.mean_squared_error(tf.nn.relu(Z8), Y))\n",
        "  \n",
        "  return cost"
      ],
      "execution_count": 0,
      "outputs": []
    },
    {
      "cell_type": "markdown",
      "metadata": {
        "id": "tF0nMRLbcwDn",
        "colab_type": "text"
      },
      "source": [
        "### Initialize Model for Training\n",
        "\n",
        "1.   Epochs = 100\n",
        "2.   Learning Rate = 2e4\n",
        "3. Minibatch Size = 128\n",
        "4. Optimizer - Adam\n"
      ]
    },
    {
      "cell_type": "code",
      "metadata": {
        "id": "Mn0LPncGnZgf",
        "colab_type": "code",
        "colab": {}
      },
      "source": [
        "def model(X_mag, S_mag, learning_rate = 0.0002, epochs = 100, print_cost = True, minibatch_size = 128):\n",
        "  \n",
        "  tf.reset_default_graph()\n",
        "  m = X_mag.shape[0]\n",
        "  X, Y = create_placeholders()\n",
        "\n",
        "  parameters = initialize_parameters()\n",
        "  \n",
        "  Z8 = forward_propagation(X, parameters)\n",
        "  cost = compute_cost(Z8, Y)\n",
        "  \n",
        "  optimizer = tf.train.AdamOptimizer(learning_rate = learning_rate).minimize(cost)\n",
        "  init = tf.global_variables_initializer()\n",
        "  \n",
        "  with tf.Session() as sess:\n",
        "    sess.run(init)\n",
        "    \n",
        "    costs = []\n",
        "    \n",
        "    for epoch in range(epochs):\n",
        "      epoch_cost = 0.\n",
        "      \n",
        "      num_minibatches = m//minibatch_size\n",
        "      \n",
        "      for i in range(num_minibatches+1):\n",
        "        start = i*minibatch_size\n",
        "        if i<num_minibatches:\n",
        "          end = start + minibatch_size\n",
        "          mini_X = X_mag[start:end, :]\n",
        "          mini_Y = S_mag[start:end, :]\n",
        "        else:\n",
        "          mini_X = X_mag[start:, :]\n",
        "          mini_Y = S_mag[start:, :]\n",
        "        \n",
        "        _, minibatch_cost = sess.run([optimizer, cost], feed_dict = {X: mini_X, Y:mini_Y})\n",
        "        \n",
        "        epoch_cost += minibatch_cost / num_minibatches\n",
        "                               \n",
        "      if print_cost == True and (epoch % 10 == 0 or (epochs-1)==epoch):\n",
        "        print(\"Cost after epoch %i: %f\" %(epoch, epoch_cost))\n",
        "        \n",
        "      if print_cost == True and epoch % 5 == 0:\n",
        "        costs.append(epoch_cost)\n",
        "        \n",
        "    parameters = sess.run(parameters)\n",
        "    print (\"Parameters have been trained!\")\n",
        "\n",
        "    sess.close()\n",
        "    return parameters"
      ],
      "execution_count": 0,
      "outputs": []
    },
    {
      "cell_type": "markdown",
      "metadata": {
        "id": "0LSR6h0zc3lX",
        "colab_type": "text"
      },
      "source": [
        "### Run the model"
      ]
    },
    {
      "cell_type": "code",
      "metadata": {
        "id": "HR0OeJ53nmti",
        "colab_type": "code",
        "outputId": "555978c0-c05e-4a91-eefd-fc66c6ac2a57",
        "colab": {
          "base_uri": "https://localhost:8080/",
          "height": 235
        }
      },
      "source": [
        "parameters = model(X_mag, S_mag)"
      ],
      "execution_count": 80,
      "outputs": [
        {
          "output_type": "stream",
          "text": [
            "yshape =  (?, 513)\n",
            "Cost after epoch 0: 0.450827\n",
            "Cost after epoch 10: 0.050473\n",
            "Cost after epoch 20: 0.043122\n",
            "Cost after epoch 30: 0.036590\n",
            "Cost after epoch 40: 0.033830\n",
            "Cost after epoch 50: 0.029496\n",
            "Cost after epoch 60: 0.027994\n",
            "Cost after epoch 70: 0.020802\n",
            "Cost after epoch 80: 0.018496\n",
            "Cost after epoch 90: 0.016363\n",
            "Cost after epoch 99: 0.013781\n",
            "Parameters have been trained!\n"
          ],
          "name": "stdout"
        }
      ]
    },
    {
      "cell_type": "markdown",
      "metadata": {
        "id": "Hp_Xap2Yc7pR",
        "colab_type": "text"
      },
      "source": [
        "### Clean  \n",
        "\n",
        "1.   Forward propagation on trained Network\n",
        "2.   Input - Noisy Signal\n",
        "3. Output - Clean Signal"
      ]
    },
    {
      "cell_type": "code",
      "metadata": {
        "id": "QvMez7u0nou6",
        "colab_type": "code",
        "colab": {}
      },
      "source": [
        "def clean(X_mag, parameters):\n",
        "  tf.reset_default_graph()\n",
        "  \n",
        "  X = tf.placeholder(tf.float32, [None, 513])\n",
        "  Z8 = forward_propagation(X, parameters)\n",
        "  S_test = tf.nn.relu(Z8) \n",
        "  \n",
        "  init = tf.global_variables_initializer()\n",
        "  with tf.Session() as sess:\n",
        "    sess.run(init) \n",
        "    S_test = sess.run(S_test, feed_dict = {X: X_mag})\n",
        "    \n",
        "    sess.close()\n",
        "  return S_test"
      ],
      "execution_count": 0,
      "outputs": []
    },
    {
      "cell_type": "markdown",
      "metadata": {
        "id": "IjOEtuZUdH-z",
        "colab_type": "text"
      },
      "source": [
        "#### Clean the training data \n",
        "\n",
        "Feed the noisy signal to the trained network to get the clean signal\n"
      ]
    },
    {
      "cell_type": "code",
      "metadata": {
        "id": "I2HXteawl3i0",
        "colab_type": "code",
        "outputId": "b8da8f5c-d8ae-4384-9918-bce731d9c6e5",
        "colab": {
          "base_uri": "https://localhost:8080/",
          "height": 34
        }
      },
      "source": [
        "c1 = clean(X_mag, parameters)\n",
        "c1.shape"
      ],
      "execution_count": 82,
      "outputs": [
        {
          "output_type": "execute_result",
          "data": {
            "text/plain": [
              "(2459, 513)"
            ]
          },
          "metadata": {
            "tags": []
          },
          "execution_count": 82
        }
      ]
    },
    {
      "cell_type": "markdown",
      "metadata": {
        "id": "_lR-AeLPdZpC",
        "colab_type": "text"
      },
      "source": [
        "### Recover the Complex Valued Spectrogram\n",
        "Recovering the complex valued Spectrogram and applying inverse STFT to convert from time-frequency domain to time domain"
      ]
    },
    {
      "cell_type": "code",
      "metadata": {
        "id": "4US7IPUal9Ti",
        "colab_type": "code",
        "outputId": "cdea714b-3fd7-4c46-8f53-73b44300d76e",
        "colab": {
          "base_uri": "https://localhost:8080/",
          "height": 34
        }
      },
      "source": [
        "S = np.multiply(np.divide(X_dirty.T, X_mag), c1)\n",
        "print(S.shape)\n",
        "sh_test = librosa.istft(S.T, win_length=1024 ,hop_length=512)"
      ],
      "execution_count": 83,
      "outputs": [
        {
          "output_type": "stream",
          "text": [
            "(2459, 513)\n"
          ],
          "name": "stdout"
        }
      ]
    },
    {
      "cell_type": "markdown",
      "metadata": {
        "id": "stiFO-Qydgqn",
        "colab_type": "text"
      },
      "source": [
        "### Saving the cleaned signal and downloading it"
      ]
    },
    {
      "cell_type": "code",
      "metadata": {
        "id": "ujkh_HhlmCFJ",
        "colab_type": "code",
        "colab": {}
      },
      "source": [
        "librosa.output.write_wav('test_clean_male.wav', sh_test, sr)\n",
        "files.download('test_clean_male.wav')"
      ],
      "execution_count": 0,
      "outputs": []
    },
    {
      "cell_type": "markdown",
      "metadata": {
        "id": "j0xHivqjdk9e",
        "colab_type": "text"
      },
      "source": [
        "### SNR\n",
        "Calculate the SNR of the train file"
      ]
    },
    {
      "cell_type": "code",
      "metadata": {
        "id": "XxOLW-lrmXFE",
        "colab_type": "code",
        "colab": {}
      },
      "source": [
        "def snr(clean, recon):\n",
        "  if len(recon)> len(clean):\n",
        "    new = np.zeros(len(recon)-len(clean))\n",
        "    clean = np.concatenate([clean, new])\n",
        "  \n",
        "  elif len(recon)< len(clean):\n",
        "      new = np.zeros(len(clean)-len(recon))\n",
        "      recon = np.concatenate([recon, new])\n",
        "  \n",
        "  return 10*np.log10(np.sum(clean**2)/np.sum(clean**2 - recon**2))"
      ],
      "execution_count": 0,
      "outputs": []
    },
    {
      "cell_type": "code",
      "metadata": {
        "id": "0wO6o0_M25AI",
        "colab_type": "code",
        "outputId": "facf7cf9-1e7e-4808-960e-745abe0730ac",
        "colab": {
          "base_uri": "https://localhost:8080/",
          "height": 34
        }
      },
      "source": [
        "snr(s, sh_test)"
      ],
      "execution_count": 86,
      "outputs": [
        {
          "output_type": "execute_result",
          "data": {
            "text/plain": [
              "8.810792035336561"
            ]
          },
          "metadata": {
            "tags": []
          },
          "execution_count": 86
        }
      ]
    },
    {
      "cell_type": "markdown",
      "metadata": {
        "id": "9kALOG2Dd4xs",
        "colab_type": "text"
      },
      "source": [
        "## For test_x_01.wav\n",
        "Load the file -> transform to feature domain using stft and take magnitude"
      ]
    },
    {
      "cell_type": "code",
      "metadata": {
        "id": "DRRoU17l2-6W",
        "colab_type": "code",
        "colab": {}
      },
      "source": [
        "test1, sr = librosa.load('test_x_01.wav', sr = None)\n",
        "t1_dirty = librosa.stft(test1, n_fft=1024, hop_length=512)\n",
        "t1_mag = np.abs(t1_dirty).T    "
      ],
      "execution_count": 0,
      "outputs": []
    },
    {
      "cell_type": "markdown",
      "metadata": {
        "id": "mYCcT0oYd7ro",
        "colab_type": "text"
      },
      "source": [
        "Clean the signal using the trained network"
      ]
    },
    {
      "cell_type": "code",
      "metadata": {
        "id": "PNMfB9RID4_4",
        "colab_type": "code",
        "colab": {}
      },
      "source": [
        "clean_t1 = clean(t1_mag, parameters)"
      ],
      "execution_count": 0,
      "outputs": []
    },
    {
      "cell_type": "markdown",
      "metadata": {
        "id": "Uo6_S8oJeGhy",
        "colab_type": "text"
      },
      "source": [
        "Recover Complex Valued Speech Spectrogram  \n",
        "And apply inverse STFT to convert from requency domain to time domain"
      ]
    },
    {
      "cell_type": "code",
      "metadata": {
        "id": "DoZRPvBYD5rY",
        "colab_type": "code",
        "colab": {}
      },
      "source": [
        "T1 = np.multiply(np.divide(t1_dirty.T, t1_mag), clean_t1)\n",
        "test_01 = librosa.istft(T1.T, win_length=1024, hop_length=512)"
      ],
      "execution_count": 0,
      "outputs": []
    },
    {
      "cell_type": "markdown",
      "metadata": {
        "id": "4ClH6UfReQ2b",
        "colab_type": "text"
      },
      "source": [
        "Save the cleaned signal and download it"
      ]
    },
    {
      "cell_type": "code",
      "metadata": {
        "id": "fbVK4y54ECjc",
        "colab_type": "code",
        "colab": {}
      },
      "source": [
        "librosa.output.write_wav('test_s_01_recons.wav', test_01, sr)\n",
        "files.download('test_s_01_recons.wav')"
      ],
      "execution_count": 0,
      "outputs": []
    },
    {
      "cell_type": "markdown",
      "metadata": {
        "id": "chndIKmieP5c",
        "colab_type": "text"
      },
      "source": [
        "## For test_x_02.wav\n",
        "Load the file -> transform to feature domain using stft and take magnitude"
      ]
    },
    {
      "cell_type": "code",
      "metadata": {
        "id": "Eg4XOnSrEGSw",
        "colab_type": "code",
        "colab": {}
      },
      "source": [
        "test2, sr = librosa.load('test_x_02.wav', sr = None)\n",
        "t2_dirty = librosa.stft(test2, n_fft=1024, hop_length=512)\n",
        "t2_mag = np.abs(t2_dirty).T"
      ],
      "execution_count": 0,
      "outputs": []
    },
    {
      "cell_type": "markdown",
      "metadata": {
        "id": "uaEPhTh6eB2P",
        "colab_type": "text"
      },
      "source": [
        "Clean the signal using the trained network"
      ]
    },
    {
      "cell_type": "code",
      "metadata": {
        "id": "s3skoiffEL7U",
        "colab_type": "code",
        "colab": {}
      },
      "source": [
        "clean_t2 = clean(t2_mag, parameters)"
      ],
      "execution_count": 0,
      "outputs": []
    },
    {
      "cell_type": "markdown",
      "metadata": {
        "id": "VbEuFBKneIt1",
        "colab_type": "text"
      },
      "source": [
        "Recover Complex Valued Speech Spectrogram  \n",
        "And apply inverse STFT to convert from requency domain to time domain"
      ]
    },
    {
      "cell_type": "code",
      "metadata": {
        "id": "RbjvNFXYEOMe",
        "colab_type": "code",
        "colab": {}
      },
      "source": [
        "T2 = np.multiply(np.divide(t2_dirty.T, t2_mag), clean_t2)\n",
        "test_02 = librosa.istft(T2.T, win_length=1024, hop_length=512)"
      ],
      "execution_count": 0,
      "outputs": []
    },
    {
      "cell_type": "markdown",
      "metadata": {
        "id": "038SFgZneNmD",
        "colab_type": "text"
      },
      "source": [
        "Save the cleaned signal and download it"
      ]
    },
    {
      "cell_type": "code",
      "metadata": {
        "id": "Uad9uHlvERZk",
        "colab_type": "code",
        "colab": {}
      },
      "source": [
        "librosa.output.write_wav('test_s_02_recons.wav', test_02, sr)\n",
        "files.download('test_s_02_recons.wav')"
      ],
      "execution_count": 0,
      "outputs": []
    },
    {
      "cell_type": "code",
      "metadata": {
        "id": "_oNs2_LJItRt",
        "colab_type": "code",
        "colab": {}
      },
      "source": [
        ""
      ],
      "execution_count": 0,
      "outputs": []
    }
  ]
}