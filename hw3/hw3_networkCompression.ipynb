{
  "nbformat": 4,
  "nbformat_minor": 0,
  "metadata": {
    "colab": {
      "name": "hw3_networkCompression.ipynb",
      "provenance": [],
      "collapsed_sections": []
    },
    "kernelspec": {
      "name": "python3",
      "display_name": "Python 3"
    },
    "accelerator": "GPU"
  },
  "cells": [
    {
      "cell_type": "markdown",
      "metadata": {
        "id": "M4xXhIO31rBg",
        "colab_type": "text"
      },
      "source": [
        "# Network Compression Using SVD"
      ]
    },
    {
      "cell_type": "markdown",
      "metadata": {
        "id": "f_KwP8uC12N2",
        "colab_type": "text"
      },
      "source": [
        "### Imports"
      ]
    },
    {
      "cell_type": "code",
      "metadata": {
        "id": "iNsVwm5NoWAd",
        "colab_type": "code",
        "outputId": "23e9f19b-9148-4e17-dbb3-b59f3ba8b004",
        "colab": {
          "base_uri": "https://localhost:8080/",
          "height": 406
        }
      },
      "source": [
        "%tensorflow_version 1.x \n",
        "import tensorflow as tf\n",
        "import matplotlib.pyplot as plt\n",
        "import numpy as np\n",
        "\n",
        "from tensorflow.examples.tutorials.mnist import input_data\n",
        "mnist = input_data.read_data_sets('MNIST_data', one_hot=True)"
      ],
      "execution_count": 1,
      "outputs": [
        {
          "output_type": "stream",
          "text": [
            "WARNING:tensorflow:From <ipython-input-1-71e054c21d18>:7: read_data_sets (from tensorflow.contrib.learn.python.learn.datasets.mnist) is deprecated and will be removed in a future version.\n",
            "Instructions for updating:\n",
            "Please use alternatives such as official/mnist/dataset.py from tensorflow/models.\n",
            "WARNING:tensorflow:From /usr/local/lib/python3.6/dist-packages/tensorflow_core/contrib/learn/python/learn/datasets/mnist.py:260: maybe_download (from tensorflow.contrib.learn.python.learn.datasets.base) is deprecated and will be removed in a future version.\n",
            "Instructions for updating:\n",
            "Please write your own downloading logic.\n",
            "WARNING:tensorflow:From /usr/local/lib/python3.6/dist-packages/tensorflow_core/contrib/learn/python/learn/datasets/mnist.py:262: extract_images (from tensorflow.contrib.learn.python.learn.datasets.mnist) is deprecated and will be removed in a future version.\n",
            "Instructions for updating:\n",
            "Please use tf.data to implement this functionality.\n",
            "Extracting MNIST_data/train-images-idx3-ubyte.gz\n",
            "WARNING:tensorflow:From /usr/local/lib/python3.6/dist-packages/tensorflow_core/contrib/learn/python/learn/datasets/mnist.py:267: extract_labels (from tensorflow.contrib.learn.python.learn.datasets.mnist) is deprecated and will be removed in a future version.\n",
            "Instructions for updating:\n",
            "Please use tf.data to implement this functionality.\n",
            "Extracting MNIST_data/train-labels-idx1-ubyte.gz\n",
            "WARNING:tensorflow:From /usr/local/lib/python3.6/dist-packages/tensorflow_core/contrib/learn/python/learn/datasets/mnist.py:110: dense_to_one_hot (from tensorflow.contrib.learn.python.learn.datasets.mnist) is deprecated and will be removed in a future version.\n",
            "Instructions for updating:\n",
            "Please use tf.one_hot on tensors.\n",
            "Extracting MNIST_data/t10k-images-idx3-ubyte.gz\n",
            "Extracting MNIST_data/t10k-labels-idx1-ubyte.gz\n",
            "WARNING:tensorflow:From /usr/local/lib/python3.6/dist-packages/tensorflow_core/contrib/learn/python/learn/datasets/mnist.py:290: DataSet.__init__ (from tensorflow.contrib.learn.python.learn.datasets.mnist) is deprecated and will be removed in a future version.\n",
            "Instructions for updating:\n",
            "Please use alternatives such as official/mnist/dataset.py from tensorflow/models.\n"
          ],
          "name": "stdout"
        }
      ]
    },
    {
      "cell_type": "markdown",
      "metadata": {
        "id": "I4KG9k2q16nd",
        "colab_type": "text"
      },
      "source": [
        "### Create Placeholders \n",
        "Creates placeholders for the Inputs and Outputs of the Network"
      ]
    },
    {
      "cell_type": "code",
      "metadata": {
        "id": "9mYsyd01ojsj",
        "colab_type": "code",
        "colab": {}
      },
      "source": [
        "def create_placeholders(n_x, n_y):\n",
        " \n",
        "  X = tf.placeholder(tf.float32, [n_x, None])\n",
        "  Y = tf.placeholder(tf.float32, [n_y, None])\n",
        "  keep_prob = tf.placeholder(tf.float32)\n",
        "\n",
        "  return X, Y, keep_prob"
      ],
      "execution_count": 0,
      "outputs": []
    },
    {
      "cell_type": "markdown",
      "metadata": {
        "id": "_9BXAYCRjjFk",
        "colab_type": "text"
      },
      "source": [
        "### Initialize Network Parameters\n",
        "Initializing weights(W) and biases(b) for all layers <br>\n",
        "Using Xavier Initializer for Weights ans Zeros Initializer for biases <br>\n",
        "Each hidden layer has 1024 hidden units"
      ]
    },
    {
      "cell_type": "code",
      "metadata": {
        "id": "kjAvlxgjorVG",
        "colab_type": "code",
        "colab": {}
      },
      "source": [
        "def initialize_parameters(units = 1024):\n",
        "  temp = (28 ** 2) \n",
        "  W1 = tf.get_variable(\"W1\", [1024 , temp], initializer = tf.contrib.layers.xavier_initializer())\n",
        "  b1 = tf.get_variable(\"b1\", [1024, 1], initializer = tf.zeros_initializer())\n",
        "  W2 = tf.get_variable(\"W2\", [1024 , 1024], initializer = tf.contrib.layers.xavier_initializer())\n",
        "  b2 = tf.get_variable(\"b2\", [1024, 1], initializer = tf.zeros_initializer())\n",
        "  W3 =  tf.get_variable(\"W3\", [1024 , 1024], initializer = tf.contrib.layers.xavier_initializer())\n",
        "  b3 = tf.get_variable(\"b3\", [1024, 1], initializer = tf.zeros_initializer())\n",
        "  W4 = tf.get_variable(\"W4\", [1024 , 1024], initializer = tf.contrib.layers.xavier_initializer())\n",
        "  b4 = tf.get_variable(\"b4\", [1024, 1], initializer = tf.zeros_initializer())\n",
        "  W5 = tf.get_variable(\"W5\", [1024 , 1024], initializer = tf.contrib.layers.xavier_initializer())\n",
        "  b5 = tf.get_variable(\"b5\", [1024, 1], initializer = tf.zeros_initializer())\n",
        "  \n",
        "  W6 = tf.get_variable(\"W6\", [10 , 1024], initializer = tf.contrib.layers.xavier_initializer())\n",
        "  b6 = tf.get_variable(\"b6\", [10, 1], initializer = tf.zeros_initializer())\n",
        "  \n",
        "  parameters = {\"W1\": W1,\n",
        "                \"b1\": b1,\n",
        "               \"W2\": W2,\n",
        "                \"b2\": b2,\n",
        "               \"W3\": W3,\n",
        "                \"b3\": b3,\n",
        "               \"W4\": W4,\n",
        "                \"b4\": b4,\n",
        "               \"W5\": W5,\n",
        "                \"b5\": b5,\n",
        "               \"W6\": W6,\n",
        "                \"b6\": b6,\n",
        "               }\n",
        "  \n",
        "  return parameters"
      ],
      "execution_count": 0,
      "outputs": []
    },
    {
      "cell_type": "markdown",
      "metadata": {
        "id": "9ob5zPtAkMvT",
        "colab_type": "text"
      },
      "source": [
        "### Forward Propogation\n",
        "Fully Connected 5 Layer Neural Netowork <br>\n",
        "Using ReLU activation for all hidden layers and <br>\n",
        "Dropout Rate = 0.2 (keep probability = 0.8) <br>\n",
        "Note: Dropout is used only in training"
      ]
    },
    {
      "cell_type": "code",
      "metadata": {
        "id": "dVR9I5DlpHSb",
        "colab_type": "code",
        "colab": {}
      },
      "source": [
        "def forward_propagation(X, parameters, keep_prob):\n",
        "  W1 = parameters['W1']\n",
        "  b1 = parameters['b1']\n",
        "  Z1 = tf.matmul(W1, X) + b1\n",
        "  A1 = tf.nn.dropout(tf.nn.relu(Z1), keep_prob=keep_prob)\n",
        "  \n",
        "  W2 = parameters['W2']\n",
        "  b2 = parameters['b2']\n",
        "  Z2 = tf.matmul(W2, A1) + b2\n",
        "  A2 = tf.nn.dropout(tf.nn.relu(Z2), keep_prob=keep_prob)\n",
        "  \n",
        "  W3 = parameters['W3']\n",
        "  b3 = parameters['b3']\n",
        "  Z3 = tf.matmul(W3, A2) + b3\n",
        "  A3 = tf.nn.dropout(tf.nn.relu(Z3), keep_prob=keep_prob)\n",
        "  \n",
        "  W4 = parameters['W4']\n",
        "  b4 = parameters['b4']\n",
        "  Z4 = tf.matmul(W4, A3) + b4\n",
        "  A4 = tf.nn.dropout(tf.nn.relu(Z4), keep_prob=keep_prob)\n",
        "  \n",
        "  W5 = parameters['W5']\n",
        "  b5 = parameters['b5']\n",
        "  Z5 = tf.matmul(W5, A4) + b5\n",
        "  A5 = tf.nn.dropout(tf.nn.relu(Z5), keep_prob=keep_prob)\n",
        "  \n",
        "  W6 = parameters['W6']\n",
        "  b6 = parameters['b6']\n",
        "  Z6 = tf.matmul(W6, A5) + b6\n",
        "   \n",
        "  \n",
        "  return Z6"
      ],
      "execution_count": 0,
      "outputs": []
    },
    {
      "cell_type": "markdown",
      "metadata": {
        "id": "is6ZHdEYnUIe",
        "colab_type": "text"
      },
      "source": [
        "### Compute Cost\n",
        "Loss Funtion - Cross Entropy (or Log Loss) <br>\n",
        "Cost is the mean of all the losses for each prediction"
      ]
    },
    {
      "cell_type": "code",
      "metadata": {
        "id": "dQp3OrOjqTcj",
        "colab_type": "code",
        "colab": {}
      },
      "source": [
        "def compute_cost(Z6, Y):\n",
        "  logits = tf.transpose(Z6)\n",
        "  labels = tf.transpose(Y)\n",
        "  \n",
        "  cost = tf.reduce_mean(tf.nn.softmax_cross_entropy_with_logits_v2(logits = logits, labels = labels))\n",
        "  \n",
        "  return cost"
      ],
      "execution_count": 0,
      "outputs": []
    },
    {
      "cell_type": "markdown",
      "metadata": {
        "id": "28HSmxKdndmL",
        "colab_type": "text"
      },
      "source": [
        "### Initialize Model for Training\n",
        "Running the model for 25 epochs <br>\n",
        "learning rate = 1e-4 <br>\n",
        "minibatch size = 256 <br>\n",
        "Using Adam Optimization Function\n"
      ]
    },
    {
      "cell_type": "code",
      "metadata": {
        "id": "LH4EVMQ2qVJ2",
        "colab_type": "code",
        "colab": {}
      },
      "source": [
        "def model(mnist, learning_rate = 0.0001, num_epochs = 25, minibatch_size = 256, print_cost = True):\n",
        "  \n",
        "  tf.reset_default_graph()\n",
        "  m, n_x = mnist.train.images.shape\n",
        "  n_y = mnist.train.labels.shape[1]\n",
        "  costs = []\n",
        "  \n",
        "  X, Y, keep_prob = create_placeholders(n_x, n_y)\n",
        "  parameters = initialize_parameters()\n",
        "  Z6 = forward_propagation(X, parameters, keep_prob)\n",
        "  cost = compute_cost(Z6, Y)\n",
        "  \n",
        "  optimizer = tf.train.AdamOptimizer(learning_rate = learning_rate).minimize(cost)\n",
        "  init = tf.global_variables_initializer()\n",
        "  \n",
        "  \n",
        "  with tf.Session() as sess:\n",
        "    sess.run(init)\n",
        "    \n",
        "    num_mini_batches = int(m/minibatch_size)\n",
        "    for epoch in range(num_epochs):\n",
        "      epoch_cost = 0.0\n",
        "      \n",
        "      for i in range(num_mini_batches):\n",
        "        minibatch_X, minibatch_Y = mnist.train.next_batch(minibatch_size)\n",
        "        _, minibatch_cost = sess.run([optimizer, cost], feed_dict = {X: minibatch_X.T, Y:minibatch_Y.T, keep_prob: 0.8})\n",
        "        \n",
        "        epoch_cost += minibatch_cost / num_mini_batches\n",
        "       \n",
        "      if print_cost == True and epoch % 5 == 0:\n",
        "        print(\"Cost after epoch %i: %f\" %(epoch, epoch_cost))\n",
        "        \n",
        "      if print_cost == True:\n",
        "        costs.append(epoch_cost)\n",
        "\n",
        "    plt.plot(np.squeeze(costs))\n",
        "    plt.ylabel('cost')\n",
        "    plt.xlabel('iterations (per tens)')\n",
        "    plt.title(\"Learning rate =\" + str(learning_rate))\n",
        "    plt.show()\n",
        "    \n",
        "    parameters = sess.run(parameters)\n",
        "    print (\"Parameters have been trained!\")\n",
        "\n",
        "    correct_prediction = tf.equal(tf.argmax(Z6), tf.argmax(Y))\n",
        "    accuracy = tf.reduce_mean(tf.cast(correct_prediction, \"float\"))\n",
        "\n",
        "    print (\"Train Accuracy:\", accuracy.eval({X: mnist.train.images.T, Y: mnist.train.labels.T, keep_prob : 1}))\n",
        "    print (\"Test Accuracy:\", accuracy.eval({X: mnist.test.images.T, Y: mnist.test.labels.T, keep_prob : 1}))\n",
        "    \n",
        "    sess.close()\n",
        "    return parameters "
      ],
      "execution_count": 0,
      "outputs": []
    },
    {
      "cell_type": "markdown",
      "metadata": {
        "id": "CDyH6V6vnxD2",
        "colab_type": "text"
      },
      "source": [
        "### Training\n",
        "Run the model"
      ]
    },
    {
      "cell_type": "code",
      "metadata": {
        "id": "bwPD9m07qZkI",
        "colab_type": "code",
        "outputId": "b86f4bc5-45ea-40eb-a2d5-1684c18092cf",
        "colab": {
          "base_uri": "https://localhost:8080/",
          "height": 614
        }
      },
      "source": [
        "parameters = model(mnist)"
      ],
      "execution_count": 7,
      "outputs": [
        {
          "output_type": "stream",
          "text": [
            "WARNING:tensorflow:\n",
            "The TensorFlow contrib module will not be included in TensorFlow 2.0.\n",
            "For more information, please see:\n",
            "  * https://github.com/tensorflow/community/blob/master/rfcs/20180907-contrib-sunset.md\n",
            "  * https://github.com/tensorflow/addons\n",
            "  * https://github.com/tensorflow/io (for I/O related ops)\n",
            "If you depend on functionality not listed there, please file an issue.\n",
            "\n",
            "WARNING:tensorflow:From <ipython-input-4-98db060fde75>:5: calling dropout (from tensorflow.python.ops.nn_ops) with keep_prob is deprecated and will be removed in a future version.\n",
            "Instructions for updating:\n",
            "Please use `rate` instead of `keep_prob`. Rate should be set to `rate = 1 - keep_prob`.\n",
            "Cost after epoch 0: 0.617280\n",
            "Cost after epoch 5: 0.070130\n",
            "Cost after epoch 10: 0.029343\n",
            "Cost after epoch 15: 0.014274\n",
            "Cost after epoch 20: 0.010524\n"
          ],
          "name": "stdout"
        },
        {
          "output_type": "display_data",
          "data": {
            "image/png": "[encoded data removed]",
            "text/plain": [
              "<Figure size 432x288 with 1 Axes>"
            ]
          },
          "metadata": {
            "tags": []
          }
        },
        {
          "output_type": "stream",
          "text": [
            "Parameters have been trained!\n",
            "Train Accuracy: 0.9992727\n",
            "Test Accuracy: 0.9805\n"
          ],
          "name": "stdout"
        }
      ]
    },
    {
      "cell_type": "markdown",
      "metadata": {
        "id": "OuQrJ35Z6RgW",
        "colab_type": "text"
      },
      "source": [
        "### SVD \n",
        "Factorizes the Weights of all hidden layers to matrices s, u and v using Singular Value Decomposition "
      ]
    },
    {
      "cell_type": "code",
      "metadata": {
        "id": "wFYuN7vRTnqJ",
        "colab_type": "code",
        "colab": {}
      },
      "source": [
        "def svd(parameters = parameters):\n",
        "  s1, u1, v1 = tf.linalg.svd(parameters['W1'])\n",
        "  s2, u2, v2 = tf.linalg.svd(parameters['W2'])\n",
        "  s3, u3, v3 = tf.linalg.svd(parameters['W3'])\n",
        "  s4, u4, v4 = tf.linalg.svd(parameters['W4'])\n",
        "  s5, u5, v5 = tf.linalg.svd(parameters['W5'])\n",
        "\n",
        "  s1 = tf.diag(s1)\n",
        "  s2 = tf.diag(s2)\n",
        "  s3 = tf.diag(s3)\n",
        "  s4 = tf.diag(s4)\n",
        "  s5 = tf.diag(s5)\n",
        "\n",
        "  suv = {\n",
        "      \"suv1\": [s1, u1, v1], \n",
        "      \"suv2\": [s2, u2, v2], \n",
        "      \"suv3\" : [s3, u3, v3],\n",
        "      \"suv4\": [s4, u4, v4], \n",
        "      \"suv5\": [s5, u5, v5],\n",
        "  }\n",
        "  return suv"
      ],
      "execution_count": 0,
      "outputs": []
    },
    {
      "cell_type": "markdown",
      "metadata": {
        "id": "IuMCRBSl64sg",
        "colab_type": "text"
      },
      "source": [
        "### New Weights\n",
        "Creates a compressed version of the Weights depending on the Value of D"
      ]
    },
    {
      "cell_type": "code",
      "metadata": {
        "id": "AYXKFAvDqbdB",
        "colab_type": "code",
        "colab": {}
      },
      "source": [
        "def get_new_parameters(D, suv, parameters = parameters, full = False):\n",
        "\n",
        "  s1, u1, v1 = suv[\"suv1\"]\n",
        "  s2, u2, v2 = suv[\"suv2\"]\n",
        "  s3, u3, v3 = suv[\"suv3\"]\n",
        "  s4, u4, v4 = suv[\"suv4\"]\n",
        "  s5, u5, v5 = suv[\"suv5\"]\n",
        "\n",
        "  if full:\n",
        "    W1 = tf.matmul(tf.matmul(u1, s1), tf.transpose(v1))\n",
        "    W2 = tf.matmul(tf.matmul(u2, s2), tf.transpose(v2))\n",
        "    W3 = tf.matmul(tf.matmul(u3, s3), tf.transpose(v3))\n",
        "    W4 = tf.matmul(tf.matmul(u4, s4), tf.transpose(v4))\n",
        "    W5 = tf.matmul(tf.matmul(u5, s5), tf.transpose(v5))\n",
        "  else:\n",
        "    W1 = tf.matmul(tf.matmul(u1[:, :D], s1[:D, :D]), tf.transpose(v1[:, :D]))\n",
        "    W2 = tf.matmul(tf.matmul(u2[:, :D], s2[:D, :D]), tf.transpose(v2[:, :D]))\n",
        "    W3 = tf.matmul(tf.matmul(u3[:, :D], s3[:D, :D]), tf.transpose(v3[:, :D]))\n",
        "    W4 = tf.matmul(tf.matmul(u4[:, :D], s4[:D, :D]), tf.transpose(v4[:, :D]))\n",
        "    W5 = tf.matmul(tf.matmul(u5[:, :D], s5[:D, :D]), tf.transpose(v5[:, :D]))\n",
        "\n",
        "  new_parameters = {\"W1\": W1,\n",
        "                \"b1\": parameters['b1'],\n",
        "               \"W2\": W2,\n",
        "                \"b2\": parameters['b2'],\n",
        "               \"W3\": W3,\n",
        "                \"b3\": parameters['b3'],\n",
        "               \"W4\": W4,\n",
        "                \"b4\": parameters['b4'],\n",
        "               \"W5\": W5,\n",
        "                \"b5\": parameters['b5'],\n",
        "               \"W6\": parameters['W6'],\n",
        "                \"b6\": parameters['b6'],\n",
        "               }\n",
        "  return new_parameters"
      ],
      "execution_count": 0,
      "outputs": []
    },
    {
      "cell_type": "markdown",
      "metadata": {
        "id": "1M2EsS3H7SGA",
        "colab_type": "text"
      },
      "source": [
        "### Feed Forward Step\n",
        "Does a feedforward Step on the Test Data for all values of D"
      ]
    },
    {
      "cell_type": "code",
      "metadata": {
        "id": "KbrCar9Pxkyp",
        "colab_type": "code",
        "colab": {}
      },
      "source": [
        "def feed_forward(D = None):\n",
        "  results = []\n",
        "  tf.reset_default_graph()\n",
        "  m, n_x = mnist.train.images.shape\n",
        "  n_y = mnist.train.labels.shape[1]\n",
        "\n",
        "  suv = svd()\n",
        "  X, Y, keep_prob = create_placeholders(n_x, n_y)\n",
        "  \n",
        "  init = tf.global_variables_initializer()\n",
        "\n",
        "  if not D:\n",
        "    D = [10, 20, 50, 100, 200, 'full']\n",
        "\n",
        "  for i in D:\n",
        "    if i != 'full':\n",
        "      parameters = get_new_parameters(i, suv)\n",
        "    else:\n",
        "      parameters = get_new_parameters(i, suv, full = True)\n",
        "\n",
        "    Z6 = forward_propagation(X, parameters, keep_prob)\n",
        "    cost = compute_cost(Z6, Y)\n",
        "\n",
        "    all_out = forward_propagation(X, parameters, keep_prob)\n",
        "\n",
        "    with tf.Session() as sess:\n",
        "      sess.run(init) \n",
        "      correct_prediction = tf.equal(tf.argmax(Z6), tf.argmax(Y))\n",
        "      accuracy = tf.reduce_mean(tf.cast(correct_prediction, \"float\"))\n",
        "      result = accuracy.eval({X: mnist.test.images.T, Y: mnist.test.labels.T, keep_prob : 1})\n",
        "      results.append(result)\n",
        "      print (\"Test Accuracy = \", result, \"for D = \", i)\n",
        "      sess.close()\n",
        "\n",
        "  return results"
      ],
      "execution_count": 0,
      "outputs": []
    },
    {
      "cell_type": "code",
      "metadata": {
        "id": "OvxMUCJKxl1W",
        "colab_type": "code",
        "outputId": "66e04f1d-3c2e-4f15-ccfa-5ed4a880ca3f",
        "colab": {
          "base_uri": "https://localhost:8080/",
          "height": 118
        }
      },
      "source": [
        "results = feed_forward()"
      ],
      "execution_count": 11,
      "outputs": [
        {
          "output_type": "stream",
          "text": [
            "Test Accuracy =  0.6911 for D =  10\n",
            "Test Accuracy =  0.818 for D =  20\n",
            "Test Accuracy =  0.9093 for D =  50\n",
            "Test Accuracy =  0.9458 for D =  100\n",
            "Test Accuracy =  0.9627 for D =  200\n",
            "Test Accuracy =  0.9805 for D =  full\n"
          ],
          "name": "stdout"
        }
      ]
    },
    {
      "cell_type": "markdown",
      "metadata": {
        "id": "df_Vj30t7iz-",
        "colab_type": "text"
      },
      "source": [
        "### Plot of Value of D vs Test Accuracy"
      ]
    },
    {
      "cell_type": "code",
      "metadata": {
        "id": "-uL8fw-l_Zs_",
        "colab_type": "code",
        "outputId": "8b6770c9-4be2-425b-ad22-18d0b729670a",
        "colab": {
          "base_uri": "https://localhost:8080/",
          "height": 279
        }
      },
      "source": [
        "fig, ax = plt.subplots()\n",
        "ax.plot(results)\n",
        "ax.set_ylabel(\"Accuracy\")\n",
        "ax.set_xlabel(\"Value of D\")\n",
        "x_axis = [0, 10, 20, 50, 100, 200, 'full']\n",
        "ax.set_xticklabels(x_axis)\n",
        "plt.show()"
      ],
      "execution_count": 12,
      "outputs": [
        {
          "output_type": "display_data",
          "data": {
            "image/png": "[encoded data removed]",
            "text/plain": [
              "<Figure size 432x288 with 1 Axes>"
            ]
          },
          "metadata": {
            "tags": []
          }
        }
      ]
    },
    {
      "cell_type": "markdown",
      "metadata": {
        "id": "19scCdgW-W66",
        "colab_type": "text"
      },
      "source": [
        "### Initialize Parameters for New Network\n",
        "1. Factorizing the Weights of the previous model using Singular Value Decomposition and then selecting the first 20 important eigen values for each layer (D = 20)\n",
        "2. Using U and V (sxd) of each layer as new weights to be trained for the new model.\n",
        "3. Instead of Using 1024x1024 Weight matrix we are using 2 matrices of 1024x20(U) and 20x1024(V) to build the 1024x1024 Weight Matrix. This compresses the original model"
      ]
    },
    {
      "cell_type": "code",
      "metadata": {
        "id": "XJ7v9ktaWNn7",
        "colab_type": "code",
        "colab": {}
      },
      "source": [
        "def initialize_new_parameters(parameters, suv, D = 20):\n",
        "  \n",
        "  s1, u1, v1 = suv[\"suv1\"]\n",
        "  s2, u2, v2 = suv[\"suv2\"]\n",
        "  s3, u3, v3 = suv[\"suv3\"]\n",
        "  s4, u4, v4 = suv[\"suv4\"]\n",
        "  s5, u5, v5 = suv[\"suv5\"]\n",
        "\n",
        "  U1 = u1[:, :D]\n",
        "  V1 = tf.matmul(s1[:D, :D], tf.transpose(v1[:, :D]))\n",
        "  b1 = tf.get_variable(\"b1\", [1024, 1], initializer = tf.zeros_initializer())\n",
        "  \n",
        "  U2 = u2[:, :D]\n",
        "  V2 = tf.matmul(s2[:D, :D], tf.transpose(v2[:, :D]))\n",
        "  b2 = tf.get_variable(\"b2\", [1024, 1], initializer = tf.zeros_initializer())\n",
        "  \n",
        "  U3 = u3[:, :D] \n",
        "  V3 = tf.matmul(s3[:D, :D], tf.transpose(v3[:, :D]))\n",
        "  b3 = tf.get_variable(\"b3\", [1024, 1], initializer = tf.zeros_initializer())\n",
        "  \n",
        "  U4 = u4[:, :D]\n",
        "  V4 = tf.matmul(s4[:D, :D], tf.transpose(v4[:, :D]))\n",
        "  b4 = tf.get_variable(\"b4\", [1024, 1], initializer = tf.zeros_initializer())\n",
        "  \n",
        "  U5 = u5[:, :D]\n",
        "  V5 = tf.matmul(s5[:D, :D], tf.transpose(v5[:, :D]))\n",
        "  b5 = tf.get_variable(\"b5\", [1024, 1], initializer = tf.zeros_initializer())\n",
        "  \n",
        "  W6 = parameters['W6']\n",
        "  # W6 = tf.get_variable(\"W6\", [10 , 1024], initializer = tf.contrib.layers.xavier_initializer())\n",
        "  b6 = tf.get_variable(\"b6\", [10, 1], initializer = tf.zeros_initializer())\n",
        "  \n",
        "  new_parameters = {\"U1\": U1,\n",
        "                    \"V1\": V1,\n",
        "                \"b1\": b1,\n",
        "               \"U2\": U2,\n",
        "                \"V2\": V2,\n",
        "                \"b2\": b2,\n",
        "               \"U3\": U3,\n",
        "                \"V3\": V3,\n",
        "                \"b3\": b3,\n",
        "               \"U4\": U4,\n",
        "                \"V4\": V4,\n",
        "                \"b4\": b4,\n",
        "               \"U5\": U5,\n",
        "                \"V5\": V5,\n",
        "                \"b5\": b5,\n",
        "               \"W6\": W6,\n",
        "                \"b6\": b6,\n",
        "               }\n",
        "  \n",
        "  return new_parameters"
      ],
      "execution_count": 0,
      "outputs": []
    },
    {
      "cell_type": "markdown",
      "metadata": {
        "id": "JWM8vUhFDrQB",
        "colab_type": "text"
      },
      "source": [
        "### Forward Propagation for the New Model\n",
        "Same as the first Model. Only difference is that the learnable parameters are U and V for each layer instead of W (which is calculated using UxV)."
      ]
    },
    {
      "cell_type": "code",
      "metadata": {
        "id": "gSHRr-6saI-K",
        "colab_type": "code",
        "colab": {}
      },
      "source": [
        "def new_forward_propagation(X, parameters, keep_prob):\n",
        "  U1 = parameters['U1']\n",
        "  V1 = parameters['V1']\n",
        "  W1 = tf.matmul(U1, V1)\n",
        "  b1 = parameters['b1']\n",
        "  Z1 = tf.matmul(W1, X) + b1\n",
        "  A1 = tf.nn.dropout(tf.nn.relu(Z1), keep_prob=keep_prob)\n",
        "  \n",
        "  U2 = parameters['U2']\n",
        "  V2 = parameters['V2']\n",
        "  W2 = tf.matmul(U2, V2)\n",
        "  b2 = parameters['b2']\n",
        "  Z2 = tf.matmul(W2, A1) + b2\n",
        "  A2 = tf.nn.dropout(tf.nn.relu(Z2), keep_prob=keep_prob)\n",
        "  \n",
        "  U3 = parameters['U3']\n",
        "  V3 = parameters['V3']\n",
        "  W3 = tf.matmul(U3, V3)\n",
        "  b3 = parameters['b3']\n",
        "  Z3 = tf.matmul(W3, A2) + b3\n",
        "  A3 = tf.nn.dropout(tf.nn.relu(Z3), keep_prob=keep_prob)\n",
        "  \n",
        "  U4 = parameters['U4']\n",
        "  V4 = parameters['V4']\n",
        "  W4 = tf.matmul(U4, V4)\n",
        "  b4 = parameters['b4']\n",
        "  Z4 = tf.matmul(W4, A3) + b4\n",
        "  A4 = tf.nn.dropout(tf.nn.relu(Z4), keep_prob=keep_prob)\n",
        "  \n",
        "  U5 = parameters['U5']\n",
        "  V5 = parameters['V5']\n",
        "  W5 = tf.matmul(U5, V5)\n",
        "  b5 = parameters['b5']\n",
        "  Z5 = tf.matmul(W5, A4) + b5\n",
        "  A5 = tf.nn.dropout(tf.nn.relu(Z5), keep_prob=keep_prob)\n",
        "  \n",
        "  W6 = parameters['W6']\n",
        "  b6 = parameters['b6']\n",
        "  Z6 = tf.matmul(W6, A5) + b6\n",
        "   \n",
        "  return Z6"
      ],
      "execution_count": 0,
      "outputs": []
    },
    {
      "cell_type": "markdown",
      "metadata": {
        "id": "BwNSz7hHEW2-",
        "colab_type": "text"
      },
      "source": [
        "### Initialize New Model for Training"
      ]
    },
    {
      "cell_type": "code",
      "metadata": {
        "id": "Kh_uhmwUX43T",
        "colab_type": "code",
        "colab": {}
      },
      "source": [
        "def new_model(mnist, parameters, learning_rate = 0.001, num_epochs = 50, minibatch_size = 256, print_cost = True):\n",
        "  \n",
        "  tf.reset_default_graph()\n",
        "  m, n_x = mnist.train.images.shape\n",
        "  n_y = mnist.train.labels.shape[1]\n",
        "  costs = []\n",
        "  \n",
        "  X, Y, keep_prob = create_placeholders(n_x, n_y)\n",
        "\n",
        "  suv = svd()\n",
        "  new_parameters = initialize_new_parameters(parameters, suv)\n",
        "  Z6 = new_forward_propagation(X, new_parameters, keep_prob)\n",
        "  cost = compute_cost(Z6, Y)\n",
        "  \n",
        "  optimizer = tf.train.AdamOptimizer(learning_rate = learning_rate).minimize(cost)\n",
        "  init = tf.global_variables_initializer()\n",
        "  \n",
        "  with tf.Session() as sess:\n",
        "    sess.run(init)\n",
        "    \n",
        "    num_mini_batches = int(m/minibatch_size)\n",
        "    for epoch in range(num_epochs):\n",
        "      epoch_cost = 0.0\n",
        "      \n",
        "      for i in range(num_mini_batches):\n",
        "        minibatch_X, minibatch_Y = mnist.train.next_batch(minibatch_size)\n",
        "        _, minibatch_cost = sess.run([optimizer, cost], feed_dict = {X: minibatch_X.T, Y:minibatch_Y.T, keep_prob: 0.8})\n",
        "        \n",
        "        epoch_cost += minibatch_cost / num_mini_batches\n",
        "       \n",
        "      if print_cost == True and epoch % 5 == 0:\n",
        "        print(\"Cost after epoch %i: %f\" %(epoch, epoch_cost))\n",
        "        \n",
        "      if print_cost == True:\n",
        "        costs.append(epoch_cost)\n",
        "\n",
        "    plt.plot(np.squeeze(costs))\n",
        "    plt.ylabel('cost')\n",
        "    plt.xlabel('iterations (per tens)')\n",
        "    plt.title(\"Learning rate =\" + str(learning_rate))\n",
        "    plt.show()\n",
        "    \n",
        "    # new_parameters = sess.run(new_parameters)\n",
        "    # print (\"Parameters have been trained!\")\n",
        "\n",
        "    correct_prediction = tf.equal(tf.argmax(Z6), tf.argmax(Y))\n",
        "    accuracy = tf.reduce_mean(tf.cast(correct_prediction, \"float\"))\n",
        "\n",
        "    print (\"Train Accuracy:\", accuracy.eval({X: mnist.train.images.T, Y: mnist.train.labels.T, keep_prob : 1}))\n",
        "    print (\"Test Accuracy:\", accuracy.eval({X: mnist.test.images.T, Y: mnist.test.labels.T, keep_prob : 1}))\n",
        "    \n",
        "    sess.close()\n",
        "    return parameters "
      ],
      "execution_count": 0,
      "outputs": []
    },
    {
      "cell_type": "markdown",
      "metadata": {
        "id": "BODoGwKHEiaB",
        "colab_type": "text"
      },
      "source": [
        "Running the new Model"
      ]
    },
    {
      "cell_type": "code",
      "metadata": {
        "id": "-h760q1ddF1M",
        "colab_type": "code",
        "colab": {
          "base_uri": "https://localhost:8080/",
          "height": 497
        },
        "outputId": "4c853408-3861-484f-9fbe-d657d2bd1e0a"
      },
      "source": [
        "new_parameters = new_model(mnist, parameters = parameters)"
      ],
      "execution_count": 16,
      "outputs": [
        {
          "output_type": "stream",
          "text": [
            "Cost after epoch 0: 0.285321\n",
            "Cost after epoch 5: 0.139553\n",
            "Cost after epoch 10: 0.123867\n",
            "Cost after epoch 15: 0.121700\n",
            "Cost after epoch 20: 0.116697\n",
            "Cost after epoch 25: 0.113279\n",
            "Cost after epoch 30: 0.113538\n",
            "Cost after epoch 35: 0.110772\n",
            "Cost after epoch 40: 0.109643\n",
            "Cost after epoch 45: 0.109491\n"
          ],
          "name": "stdout"
        },
        {
          "output_type": "display_data",
          "data": {
            "image/png": "[encoded data removed]",
            "text/plain": [
              "<Figure size 432x288 with 1 Axes>"
            ]
          },
          "metadata": {
            "tags": []
          }
        },
        {
          "output_type": "stream",
          "text": [
            "Train Accuracy: 0.9725636\n",
            "Test Accuracy: 0.965\n"
          ],
          "name": "stdout"
        }
      ]
    }
  ]
}