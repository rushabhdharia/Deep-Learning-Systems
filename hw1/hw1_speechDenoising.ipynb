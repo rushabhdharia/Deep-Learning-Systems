{
  "nbformat": 4,
  "nbformat_minor": 0,
  "metadata": {
    "colab": {
      "name": "hw1_speechDenoising.ipynb",
      "provenance": [],
      "collapsed_sections": []
    },
    "kernelspec": {
      "name": "python3",
      "display_name": "Python 3"
    },
    "accelerator": "GPU"
  },
  "cells": [
    {
      "cell_type": "markdown",
      "metadata": {
        "id": "TwOPJUaQq0r8",
        "colab_type": "text"
      },
      "source": [
        "# Simple Speech Denoising"
      ]
    },
    {
      "cell_type": "markdown",
      "metadata": {
        "id": "6VdpVxV4q5b4",
        "colab_type": "text"
      },
      "source": [
        "### Imports"
      ]
    },
    {
      "cell_type": "code",
      "metadata": {
        "id": "_t-SNTs3etlh",
        "colab_type": "code",
        "colab": {}
      },
      "source": [
        "import librosa\n",
        "import numpy as np\n",
        "import tensorflow as tf"
      ],
      "execution_count": 0,
      "outputs": []
    },
    {
      "cell_type": "markdown",
      "metadata": {
        "id": "yTdG-W5Vq9iB",
        "colab_type": "text"
      },
      "source": [
        "### Upload relevant files\n",
        "\n",
        "Please upload the following files\n",
        "1. test_x_01.wav\n",
        "2. test_x_02.wav\n",
        "3. train_clean_male.wav\n",
        "4. train_dirty_male.wav"
      ]
    },
    {
      "cell_type": "code",
      "metadata": {
        "id": "tFByJLfmdPNM",
        "colab_type": "code",
        "outputId": "75c7ffc5-4b9a-4f8b-f2dc-abc45c3e464f",
        "colab": {
          "resources": {
            "http://localhost:8080/nbextensions/google.colab/files.js": {
              "data": "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",
              "ok": true,
              "headers": [
                [
                  "content-type",
                  "application/javascript"
                ]
              ],
              "status": 200,
              "status_text": ""
            }
          },
          "base_uri": "https://localhost:8080/",
          "height": 175
        }
      },
      "source": [
        "from google.colab import files\n",
        "\n",
        "uploaded = files.upload()"
      ],
      "execution_count": 3,
      "outputs": [
        {
          "output_type": "display_data",
          "data": {
            "text/html": [
              "\n",
              "     <input type=\"file\" id=\"files-9c61929a-df7b-415c-b7b1-249d2bc7bedb\" name=\"files[]\" multiple disabled />\n",
              "     <output id=\"result-9c61929a-df7b-415c-b7b1-249d2bc7bedb\">\n",
              "      Upload widget is only available when the cell has been executed in the\n",
              "      current browser session. Please rerun this cell to enable.\n",
              "      </output>\n",
              "      <script src=\"/nbextensions/google.colab/files.js\"></script> "
            ],
            "text/plain": [
              "<IPython.core.display.HTML object>"
            ]
          },
          "metadata": {
            "tags": []
          }
        },
        {
          "output_type": "stream",
          "text": [
            "Saving test_x_01.wav to test_x_01.wav\n",
            "Saving test_x_02.wav to test_x_02.wav\n",
            "Saving train_clean_male.wav to train_clean_male.wav\n",
            "Saving train_dirty_male.wav to train_dirty_male.wav\n"
          ],
          "name": "stdout"
        }
      ]
    },
    {
      "cell_type": "markdown",
      "metadata": {
        "id": "nXAicTKSrT0s",
        "colab_type": "text"
      },
      "source": [
        "### Load and Convert\n",
        "Load the relevant files using Librosa and convert them from time domain to frequency domain using STFT (Short Time Fourier Transform)"
      ]
    },
    {
      "cell_type": "code",
      "metadata": {
        "id": "kHatol-SbVnl",
        "colab_type": "code",
        "colab": {}
      },
      "source": [
        "s, sr = librosa.load('train_clean_male.wav', sr = None)\n",
        "S_clean = librosa.stft(s, n_fft=1024, hop_length=512)\n",
        "sn, sr = librosa.load('train_dirty_male.wav', sr = None)\n",
        "X_dirty = librosa.stft(sn, n_fft=1024, hop_length=512)"
      ],
      "execution_count": 0,
      "outputs": []
    },
    {
      "cell_type": "markdown",
      "metadata": {
        "id": "V5IaH2zlsyjV",
        "colab_type": "text"
      },
      "source": [
        "### Take Magnitudes\n",
        "\n",
        "S and X are complexe valued so we take their magnitudes"
      ]
    },
    {
      "cell_type": "code",
      "metadata": {
        "id": "EUTIj971eYpZ",
        "colab_type": "code",
        "colab": {}
      },
      "source": [
        "S_mag = np.abs(S_clean)\n",
        "X_mag = np.abs(X_dirty)"
      ],
      "execution_count": 0,
      "outputs": []
    },
    {
      "cell_type": "markdown",
      "metadata": {
        "id": "cZ9ky_zCtJqh",
        "colab_type": "text"
      },
      "source": [
        "## Training"
      ]
    },
    {
      "cell_type": "markdown",
      "metadata": {
        "id": "PHatoEHttM_C",
        "colab_type": "text"
      },
      "source": [
        "### Create Placeholders"
      ]
    },
    {
      "cell_type": "code",
      "metadata": {
        "id": "2LKVjzPifK2V",
        "colab_type": "code",
        "colab": {}
      },
      "source": [
        "def create_placeholders(n_x = 513, n_y = 513):\n",
        "  X = tf.placeholder(tf.float32, [n_x, None])\n",
        "  Y = tf.placeholder(tf.float32, [n_y, None])\n",
        "  \n",
        "  return X, Y"
      ],
      "execution_count": 0,
      "outputs": []
    },
    {
      "cell_type": "markdown",
      "metadata": {
        "id": "8OmaGGt8tQtp",
        "colab_type": "text"
      },
      "source": [
        "### Initialize Parameters\n",
        "Initializing weights and biases for all layers. <br>\n",
        "Using Xavier Initialiazer for Weights and Zeros Initializer for biases <br>\n",
        "Each hidden layer has 1024 hidden units"
      ]
    },
    {
      "cell_type": "code",
      "metadata": {
        "id": "63RAl4pkgMFP",
        "colab_type": "code",
        "colab": {}
      },
      "source": [
        "def initialize_parameters():\n",
        "  W1 = tf.get_variable(\"W1\", [1024, 513], initializer = tf.contrib.layers.xavier_initializer())\n",
        "  b1 = tf.get_variable(\"b1\", [1024, 1], initializer = tf.zeros_initializer())\n",
        "\n",
        "  W2 = tf.get_variable(\"W2\", [1024, 1024], initializer = tf.contrib.layers.xavier_initializer())\n",
        "  b2 = tf.get_variable(\"b2\", [1024, 1], initializer = tf.zeros_initializer())\n",
        "\n",
        "  W3 = tf.get_variable(\"W3\", [513, 1024], initializer = tf.contrib.layers.xavier_initializer())\n",
        "  b3 = tf.get_variable(\"b3\", [513, 1], initializer = tf.zeros_initializer())\n",
        "\n",
        "  parameters = {\n",
        "      \"W1\" : W1,\n",
        "      \"b1\" : b1,\n",
        "      \"W2\" : W2,\n",
        "      \"b2\" : b2,\n",
        "      \"W3\" : W3,\n",
        "      \"b3\" : b3\n",
        "  }\n",
        "  \n",
        "  return parameters"
      ],
      "execution_count": 0,
      "outputs": []
    },
    {
      "cell_type": "markdown",
      "metadata": {
        "id": "_eYdgVNPtzwJ",
        "colab_type": "text"
      },
      "source": [
        "### Forward Propagation\n",
        "\n",
        "Fully Connected 3 Layer Neural Network <br>\n",
        "Using ReLU activation for all layers"
      ]
    },
    {
      "cell_type": "code",
      "metadata": {
        "id": "Ew7lfL30ifFR",
        "colab_type": "code",
        "colab": {}
      },
      "source": [
        "def forward_propagation(X, parameters):\n",
        "  W1 = parameters['W1']\n",
        "  b1 = parameters['b1']\n",
        "  Z1 = tf.matmul(W1, X) + b1\n",
        "  A1 = tf.nn.relu(Z1)\n",
        "  \n",
        "  W2 = parameters['W2']\n",
        "  b2 = parameters['b2']\n",
        "  Z2 = tf.matmul(W2, A1) + b2\n",
        "  A2 = tf.nn.relu(Z2)\n",
        "  \n",
        "  W3 = parameters['W3']\n",
        "  b3 = parameters['b3']\n",
        "  Z3 = tf.matmul(W3, A2) + b3\n",
        "  \n",
        "  return Z3\n",
        "  "
      ],
      "execution_count": 0,
      "outputs": []
    },
    {
      "cell_type": "markdown",
      "metadata": {
        "id": "k0pKcVbsuG0c",
        "colab_type": "text"
      },
      "source": [
        "### Compute Cost\n",
        "Loss function -> MSE (Mean Squared Error)\n",
        "\n",
        "Cost -> Mean of the MSE of each prediction - label pair"
      ]
    },
    {
      "cell_type": "code",
      "metadata": {
        "id": "xf0JPAcclJGd",
        "colab_type": "code",
        "colab": {}
      },
      "source": [
        "def compute_cost(Z3, Y):\n",
        "  logits = tf.transpose(Z3)\n",
        "  labels = tf.transpose(Y)\n",
        "  \n",
        "  cost = tf.reduce_mean(tf.losses.mean_squared_error(tf.nn.relu(Z3), Y))\n",
        "  \n",
        "  return cost"
      ],
      "execution_count": 0,
      "outputs": []
    },
    {
      "cell_type": "markdown",
      "metadata": {
        "id": "EH5yQ6tfuosG",
        "colab_type": "text"
      },
      "source": [
        "### Initialize the Model for Training\n",
        "Running the model for 100 epochs  \n",
        "learning rate = 1e-3  \n",
        "Using the Adam Optimizer  "
      ]
    },
    {
      "cell_type": "code",
      "metadata": {
        "id": "7UK-Ba7TLuZz",
        "colab_type": "code",
        "colab": {}
      },
      "source": [
        "def model(X_mag, S_mag, learning_rate = 0.001, epochs = 100, print_cost = True):\n",
        "  \n",
        "  tf.reset_default_graph()\n",
        "  n_x, m = X_mag.shape\n",
        "  n_y = S_mag.shape[0]\n",
        "  \n",
        "  X, Y = create_placeholders(n_x, n_y)\n",
        "  parameters = initialize_parameters()\n",
        "  print(parameters)\n",
        "  Z3 = forward_propagation(X, parameters)\n",
        "  cost = compute_cost(Z3, Y)\n",
        "  \n",
        "  optimizer = tf.train.AdamOptimizer(learning_rate = learning_rate).minimize(cost)\n",
        "  init = tf.global_variables_initializer()\n",
        "  \n",
        "  with tf.Session() as sess:\n",
        "    sess.run(init)\n",
        "    \n",
        "    costs = []\n",
        "    \n",
        "    for epoch in range(epochs):\n",
        "      _, epoch_cost = sess.run([optimizer, cost], feed_dict = {X: X_mag, Y:S_mag})\n",
        "                               \n",
        "      if print_cost == True and epoch % 10 == 0:\n",
        "        print(\"Cost after epoch %i: %f\" %(epoch, epoch_cost))\n",
        "        \n",
        "      if print_cost == True and epoch % 5 == 0:\n",
        "        costs.append(epoch_cost)\n",
        "        \n",
        "    parameters = sess.run(parameters)\n",
        "    print (\"Parameters have been trained!\")\n",
        "\n",
        "    \n",
        "#     correct_prediction = tf.equal(tf.argmax(Z3), tf.argmax(Y))\n",
        "#     accuracy = tf.reduce_mean(tf.cast(correct_prediction, \"float\"))\n",
        "                               \n",
        "#     print (\"Train Accuracy:\", accuracy.eval({X: X_mag, Y: S_mag}))\n",
        "#     print (\"Test Accuracy:\", accuracy.eval({X: mnist.test.images.T, Y: mnist.test.labels.T}))\n",
        "    \n",
        "    sess.close()\n",
        "    return parameters"
      ],
      "execution_count": 0,
      "outputs": []
    },
    {
      "cell_type": "markdown",
      "metadata": {
        "id": "9rnGtaSHvGiL",
        "colab_type": "text"
      },
      "source": [
        "### Run the model"
      ]
    },
    {
      "cell_type": "code",
      "metadata": {
        "id": "r_XLvScHOhc4",
        "colab_type": "code",
        "outputId": "14d443e3-dfac-4f33-dcc6-90d8fba9d420",
        "colab": {
          "base_uri": "https://localhost:8080/",
          "height": 423
        }
      },
      "source": [
        "parameters = model(X_mag, S_mag)"
      ],
      "execution_count": 11,
      "outputs": [
        {
          "output_type": "stream",
          "text": [
            "WARNING:tensorflow:\n",
            "The TensorFlow contrib module will not be included in TensorFlow 2.0.\n",
            "For more information, please see:\n",
            "  * https://github.com/tensorflow/community/blob/master/rfcs/20180907-contrib-sunset.md\n",
            "  * https://github.com/tensorflow/addons\n",
            "  * https://github.com/tensorflow/io (for I/O related ops)\n",
            "If you depend on functionality not listed there, please file an issue.\n",
            "\n",
            "{'W1': <tf.Variable 'W1:0' shape=(1024, 513) dtype=float32_ref>, 'b1': <tf.Variable 'b1:0' shape=(1024, 1) dtype=float32_ref>, 'W2': <tf.Variable 'W2:0' shape=(1024, 1024) dtype=float32_ref>, 'b2': <tf.Variable 'b2:0' shape=(1024, 1) dtype=float32_ref>, 'W3': <tf.Variable 'W3:0' shape=(513, 1024) dtype=float32_ref>, 'b3': <tf.Variable 'b3:0' shape=(513, 1) dtype=float32_ref>}\n",
            "WARNING:tensorflow:From /usr/local/lib/python3.6/dist-packages/tensorflow/python/ops/losses/losses_impl.py:121: add_dispatch_support.<locals>.wrapper (from tensorflow.python.ops.array_ops) is deprecated and will be removed in a future version.\n",
            "Instructions for updating:\n",
            "Use tf.where in 2.0, which has the same broadcast rule as np.where\n",
            "Cost after epoch 0: 0.098789\n",
            "Cost after epoch 10: 0.026831\n",
            "Cost after epoch 20: 0.013331\n",
            "Cost after epoch 30: 0.009327\n",
            "Cost after epoch 40: 0.007324\n",
            "Cost after epoch 50: 0.006170\n",
            "Cost after epoch 60: 0.005414\n",
            "Cost after epoch 70: 0.005051\n",
            "Cost after epoch 80: 0.004603\n",
            "Cost after epoch 90: 0.004383\n",
            "Parameters have been trained!\n"
          ],
          "name": "stdout"
        }
      ]
    },
    {
      "cell_type": "markdown",
      "metadata": {
        "id": "oN4VN1wK1rx-",
        "colab_type": "text"
      },
      "source": [
        "### Clean Function\n",
        "Forward propagation on trained network  \n",
        "input data - Noisy Signal  \n",
        "output data - Clean Signal  "
      ]
    },
    {
      "cell_type": "code",
      "metadata": {
        "id": "HLXEJAujR10m",
        "colab_type": "code",
        "colab": {}
      },
      "source": [
        "def clean(X_mag, parameters):\n",
        "  tf.reset_default_graph()\n",
        "\n",
        "  n_x, m = X_mag.shape\n",
        "# n_y = S_mag.shape[0]\n",
        "  \n",
        "  X = tf.placeholder(tf.float32, [n_x, None])\n",
        "#   parameters = initialize_parameters()\n",
        "#   print(parameters)\n",
        "  Z3 = forward_propagation(X, parameters)\n",
        "  S_test = tf.nn.relu(Z3) \n",
        "  \n",
        "  init = tf.global_variables_initializer()\n",
        "  with tf.Session() as sess:\n",
        "    sess.run(init) \n",
        "    S_test = sess.run(S_test, feed_dict = {X: X_mag})\n",
        "#     parameters = sess.run(parameters)\n",
        "    sess.close()\n",
        "  return S_test\n",
        "    "
      ],
      "execution_count": 0,
      "outputs": []
    },
    {
      "cell_type": "markdown",
      "metadata": {
        "id": "2N7gOL6J2V75",
        "colab_type": "text"
      },
      "source": [
        "Clean the mixture X_mag"
      ]
    },
    {
      "cell_type": "code",
      "metadata": {
        "id": "ABIR8CMfS6XZ",
        "colab_type": "code",
        "colab": {}
      },
      "source": [
        "c1 = clean(X_mag, parameters)"
      ],
      "execution_count": 0,
      "outputs": []
    },
    {
      "cell_type": "markdown",
      "metadata": {
        "id": "xJk-aZBl2VxE",
        "colab_type": "text"
      },
      "source": [
        "### Recover Complex Valued Speech Spectrogram \n",
        "And applying inverse STFT to convert from requency domain to time domain"
      ]
    },
    {
      "cell_type": "code",
      "metadata": {
        "id": "HWsmWli5pFDC",
        "colab_type": "code",
        "colab": {}
      },
      "source": [
        "S = np.multiply(np.divide(X_dirty, X_mag), c1)\n",
        "sh_test = librosa.istft(S, win_length=1024 ,hop_length=512)"
      ],
      "execution_count": 0,
      "outputs": []
    },
    {
      "cell_type": "markdown",
      "metadata": {
        "id": "DhKMbiJ53C5O",
        "colab_type": "text"
      },
      "source": [
        "### Saving the Cleaned signal and downloading it"
      ]
    },
    {
      "cell_type": "code",
      "metadata": {
        "id": "cn6h8F8731Rk",
        "colab_type": "code",
        "colab": {}
      },
      "source": [
        "librosa.output.write_wav('test_clean_male.wav', sh_test, sr)\n",
        "files.download('test_clean_male.wav')"
      ],
      "execution_count": 0,
      "outputs": []
    },
    {
      "cell_type": "markdown",
      "metadata": {
        "id": "te_jsJdP4chK",
        "colab_type": "text"
      },
      "source": [
        "## For test_x_01.wav\n",
        "Load the file -> transform to feature domain using stft and take magnitude"
      ]
    },
    {
      "cell_type": "code",
      "metadata": {
        "id": "w2t7Jscu5IC8",
        "colab_type": "code",
        "colab": {}
      },
      "source": [
        "test1, sr = librosa.load('test_x_01.wav', sr = None)\n",
        "t1_dirty = librosa.stft(test1, n_fft=1024, hop_length=512)\n",
        "t1_mag = np.abs(t1_dirty)"
      ],
      "execution_count": 0,
      "outputs": []
    },
    {
      "cell_type": "markdown",
      "metadata": {
        "id": "W6ab0RRQ5MaX",
        "colab_type": "text"
      },
      "source": [
        "Clean the signal using forward propagation"
      ]
    },
    {
      "cell_type": "code",
      "metadata": {
        "id": "zdt5Vz9O6bvI",
        "colab_type": "code",
        "colab": {}
      },
      "source": [
        "clean_t1 = clean(t1_mag, parameters)"
      ],
      "execution_count": 0,
      "outputs": []
    },
    {
      "cell_type": "markdown",
      "metadata": {
        "id": "uocnvneF5aN0",
        "colab_type": "text"
      },
      "source": [
        "Recover Complex Valued Speech Spectrogram  \n",
        "And apply inverse STFT to convert from requency domain to time domain"
      ]
    },
    {
      "cell_type": "code",
      "metadata": {
        "id": "irDOs4lW6uhv",
        "colab_type": "code",
        "colab": {}
      },
      "source": [
        "T1 = np.multiply(np.divide(t1_dirty, t1_mag), clean_t1)\n",
        "test_01 = librosa.istft(T1, win_length=1024, hop_length=512)"
      ],
      "execution_count": 0,
      "outputs": []
    },
    {
      "cell_type": "markdown",
      "metadata": {
        "id": "DnPQZknH5rYJ",
        "colab_type": "text"
      },
      "source": [
        "Save the cleaned signal and download it"
      ]
    },
    {
      "cell_type": "code",
      "metadata": {
        "id": "-XNweJ4s7ID8",
        "colab_type": "code",
        "colab": {}
      },
      "source": [
        "librosa.output.write_wav('test_s_01_recons.wav', test_01, sr)\n",
        "files.download('test_s_01_recons.wav')"
      ],
      "execution_count": 0,
      "outputs": []
    },
    {
      "cell_type": "markdown",
      "metadata": {
        "id": "eJQYvDw_51C0",
        "colab_type": "text"
      },
      "source": [
        "## For test_x_02.wav\n",
        "Load the file -> transform to feature domain using stft and take magnitude"
      ]
    },
    {
      "cell_type": "code",
      "metadata": {
        "id": "NmOaZ1lG6Dcw",
        "colab_type": "code",
        "colab": {}
      },
      "source": [
        "test2, sr = librosa.load('test_x_02.wav', sr = None)\n",
        "t2_dirty = librosa.stft(test2, n_fft=1024, hop_length=512)\n",
        "t2_mag = np.abs(t2_dirty)"
      ],
      "execution_count": 0,
      "outputs": []
    },
    {
      "cell_type": "markdown",
      "metadata": {
        "colab_type": "text",
        "id": "KLJrDF3w6Ci5"
      },
      "source": [
        "Clean the signal using forward propagation"
      ]
    },
    {
      "cell_type": "code",
      "metadata": {
        "id": "GoZZKs9W7TjS",
        "colab_type": "code",
        "colab": {}
      },
      "source": [
        "clean_t2 = clean(t2_mag, parameters)"
      ],
      "execution_count": 0,
      "outputs": []
    },
    {
      "cell_type": "markdown",
      "metadata": {
        "colab_type": "text",
        "id": "cEI7IznD6GGp"
      },
      "source": [
        "Recover Complex Valued Speech Spectrogram  \n",
        "And apply inverse STFT to convert from requency domain to time domain"
      ]
    },
    {
      "cell_type": "code",
      "metadata": {
        "id": "TNM478tQ7Vvh",
        "colab_type": "code",
        "colab": {}
      },
      "source": [
        "T2 = np.multiply(np.divide(t2_dirty, t2_mag), clean_t2)\n",
        "test_02 = librosa.istft(T2, win_length=1024, hop_length=512)"
      ],
      "execution_count": 0,
      "outputs": []
    },
    {
      "cell_type": "markdown",
      "metadata": {
        "colab_type": "text",
        "id": "GMx4lqJg6KOa"
      },
      "source": [
        "Save the cleaned signal and download it"
      ]
    },
    {
      "cell_type": "code",
      "metadata": {
        "id": "t5YdTYc97dMf",
        "colab_type": "code",
        "colab": {}
      },
      "source": [
        "librosa.output.write_wav('test_s_02_recons.wav', test_02, sr)\n",
        "files.download('test_s_02_recons.wav')"
      ],
      "execution_count": 0,
      "outputs": []
    },
    {
      "cell_type": "code",
      "metadata": {
        "id": "DuMK7tCX68OO",
        "colab_type": "code",
        "colab": {}
      },
      "source": [
        ""
      ],
      "execution_count": 0,
      "outputs": []
    }
  ]
}