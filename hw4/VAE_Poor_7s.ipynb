{
 "cells": [
  {
   "cell_type": "code",
   "execution_count": 6,
   "metadata": {},
   "outputs": [],
   "source": [
    "import pickle\n",
    "import tensorflow as tf\n",
    "import numpy as np\n",
    "from tensorflow.keras.layers import Input, Flatten, Dense, Dropout, Lambda, Conv2D, MaxPool2D\n",
    "from tensorflow.keras.models import Sequential\n",
    "from tensorflow.keras import Model"
   ]
  },
  {
   "cell_type": "code",
   "execution_count": 2,
   "metadata": {},
   "outputs": [
    {
     "name": "stdout",
     "output_type": "stream",
     "text": [
      "(6265, 28, 28)\n"
     ]
    }
   ],
   "source": [
    "with open('hw4_tr7.pkl', 'rb') as pickle_file:\n",
    "    train_data = pickle.load(pickle_file)\n",
    "print(train_data.shape)"
   ]
  },
  {
   "cell_type": "code",
   "execution_count": 3,
   "metadata": {},
   "outputs": [
    {
     "name": "stdout",
     "output_type": "stream",
     "text": [
      "(6265, 28, 28)\n"
     ]
    }
   ],
   "source": [
    "with open('hw4_te7.pkl', 'rb') as pickle_file:\n",
    "    test_data = pickle.load(pickle_file)\n",
    "print(train_data.shape)"
   ]
  },
  {
   "cell_type": "markdown",
   "metadata": {},
   "source": [
    "## References\n",
    "1. https://www.tensorflow.org/tutorials/generative/cvae"
   ]
  },
  {
   "cell_type": "code",
   "execution_count": 5,
   "metadata": {},
   "outputs": [],
   "source": [
    "## Adding Channel Dimension\n",
    "train_data = np.expand_dims(train_data, axis=3)\n",
    "test_data = np.expand_dims(train_data, axis=3)"
   ]
  },
  {
   "cell_type": "code",
   "execution_count": 7,
   "metadata": {},
   "outputs": [],
   "source": [
    "def VAE_model(input_shape = [28, 28, 1], latent_dim = 4):\n",
    "    input_img = Input(input_shape) \n",
    "    \n",
    "    encoder_model = Sequential()   \n",
    "    encoder_model.add(Conv2D(16, kernel_size = (5, 5), input_shape = input_shape, activation = 'relu'))\n",
    "    encoder_model.add(Conv2D(32, kernel_size = (3, 3), activation = 'relu'))\n",
    "    encoder_model.add(Conv2D(64, kernel_size = (2, 2), activation = 'relu'))\n",
    "    encoder_model.add(Flatten())\n",
    "    encoder_model.add(Dense(128))\n",
    "    \n",
    "    encoder_output = encoder_model(input_img)\n",
    "    \n",
    "    mean = Dense(latent_dim)(encoder_output)\n",
    "    logvar = Dense(latent_dim)(encoder_output)\n",
    "     \n",
    "    eps = tf.random.normal(shape=mean.shape)\n",
    "    #reparameterize\n",
    "    z = eps*tf.exp(logvar * .5) + mean\n",
    "    \n",
    "    decoder_model = Sequential()\n",
    "    decoder_model.add(Dense(latent_dim*2, input_shape = latent_dim, activation = 'relu'))\n",
    "    decoder_model.add(Dense(28*28, input_shape = latent_dim, activation = 'relu'))\n",
    "    decoder_model.add(Reshape(target_shape = (28,28, 1)))\n",
    "    decoder_model.add(Conv2DTranspose(64, kernel_size = (2, 2), activation = 'relu', padding='SAME'))\n",
    "    decoder_model.add(Conv2DTranspose(32, kernel_size = (3, 3), activation = 'relu', padding='SAME'))\n",
    "    decoder_model.add(Conv2DTranspose(16, kernel_size = (5, 5), activation = 'relu', padding='SAME'))\n",
    "    decoder_model.add(Conv2DTranspose(1, kernel_size = (5, 5), padding='SAME'))\n",
    "    \n",
    "    prediction = decoder_model(z)\n",
    "      \n",
    "    vae_model = Model(inputs = input_img, outputs = prediction)\n",
    "    \n",
    "    return vae_model, mean, logvar"
   ]
  },
  {
   "cell_type": "code",
   "execution_count": null,
   "metadata": {},
   "outputs": [],
   "source": [
    "def compute_loss(ip, op, mean, var)\n",
    "    # kld or elbo?\n",
    "    kld = \n",
    "    mse = tf.losses.mean_squared_error(labels=, predictions = decoded_image)\n",
    "    #mse or bce and is the below step required?\n",
    "    mse_loss= mse*img_dim*img_dim\n",
    "    return mse_loss+kl_loss"
   ]
  }
 ],
 "metadata": {
  "kernelspec": {
   "display_name": "Python 3",
   "language": "python",
   "name": "python3"
  },
  "language_info": {
   "codemirror_mode": {
    "name": "ipython",
    "version": 3
   },
   "file_extension": ".py",
   "mimetype": "text/x-python",
   "name": "python",
   "nbconvert_exporter": "python",
   "pygments_lexer": "ipython3",
   "version": "3.6.9"
  }
 },
 "nbformat": 4,
 "nbformat_minor": 2
}
